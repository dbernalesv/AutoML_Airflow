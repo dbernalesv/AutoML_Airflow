{
 "cells": [
  {
   "cell_type": "code",
   "execution_count": null,
   "metadata": {},
   "outputs": [],
   "source": [
    "pip install kaggle"
   ]
  },
  {
   "cell_type": "code",
   "execution_count": 3,
   "metadata": {},
   "outputs": [],
   "source": [
    "import os\n",
    "os.environ['KAGGLE_USERNAME'] = 'diegobernales'\n",
    "os.environ['KAGGLE_KEY'] = '25c20a6af1ee56f54161e79e370105dd'\n",
    "from kaggle.api.kaggle_api_extended import KaggleApi\n",
    "import zipfile"
   ]
  },
  {
   "cell_type": "code",
   "execution_count": 4,
   "metadata": {},
   "outputs": [
    {
     "name": "stdout",
     "output_type": "stream",
     "text": [
      "Unzipped playground-series-s4e6.zip\n"
     ]
    }
   ],
   "source": [
    "api = KaggleApi()\n",
    "api.authenticate()\n",
    "# Download the competition files\n",
    "competition_name = 'playground-series-s4e6'\n",
    "download_path = 'data_kaggle/'\n",
    "api.competition_download_files(competition_name, path=download_path)\n",
    "# Unzip the downloaded files\n",
    "for item in os.listdir(download_path):\n",
    "    if item.endswith('.zip'):\n",
    "        zip_ref = zipfile.ZipFile(os.path.join(download_path, item), 'r')\n",
    "        zip_ref.extractall(download_path)\n",
    "        zip_ref.close()\n",
    "        print(f\"Unzipped {item}\")"
   ]
  },
  {
   "cell_type": "code",
   "execution_count": 6,
   "metadata": {},
   "outputs": [
    {
     "name": "stdout",
     "output_type": "stream",
     "text": [
      "Successfully submitted to Classification with an Academic Success Dataset\n"
     ]
    },
    {
     "name": "stderr",
     "output_type": "stream",
     "text": [
      "\n",
      "  0%|          | 0.00/809k [00:00<?, ?B/s]\n",
      "  1%|          | 8.00k/809k [00:00<00:47, 17.3kB/s]\n",
      " 23%|██▎       | 184k/809k [00:00<00:01, 428kB/s]  \n",
      "100%|██████████| 809k/809k [00:01<00:00, 461kB/s]\n"
     ]
    }
   ],
   "source": [
    "!kaggle competitions submit -c playground-series-s4e6 -f submission.csv -m \"prueba_sumbit\""
   ]
  }
 ],
 "metadata": {
  "kernelspec": {
   "display_name": "base",
   "language": "python",
   "name": "python3"
  },
  "language_info": {
   "codemirror_mode": {
    "name": "ipython",
    "version": 3
   },
   "file_extension": ".py",
   "mimetype": "text/x-python",
   "name": "python",
   "nbconvert_exporter": "python",
   "pygments_lexer": "ipython3",
   "version": "3.11.7"
  }
 },
 "nbformat": 4,
 "nbformat_minor": 2
}
